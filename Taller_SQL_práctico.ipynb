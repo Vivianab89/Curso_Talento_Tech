{
  "nbformat": 4,
  "nbformat_minor": 0,
  "metadata": {
    "colab": {
      "provenance": [],
      "authorship_tag": "ABX9TyPkkoy1q1tn6jVIdoY7DyGf",
      "include_colab_link": true
    },
    "kernelspec": {
      "name": "python3",
      "display_name": "Python 3"
    },
    "language_info": {
      "name": "python"
    }
  },
  "cells": [
    {
      "cell_type": "markdown",
      "metadata": {
        "id": "view-in-github",
        "colab_type": "text"
      },
      "source": [
        "<a href=\"https://colab.research.google.com/github/Vivianab89/Curso_Talento_Tech/blob/main/Taller_SQL_pr%C3%A1ctico.ipynb\" target=\"_parent\"><img src=\"https://colab.research.google.com/assets/colab-badge.svg\" alt=\"Open In Colab\"/></a>"
      ]
    },
    {
      "cell_type": "code",
      "source": [
        "from google.colab import drive # Traemos la clase drive, dentro del módulo colab, del paquete google\n",
        "drive.mount('/content/drive') # Establecemos la conexión através del método mount"
      ],
      "metadata": {
        "colab": {
          "base_uri": "https://localhost:8080/"
        },
        "id": "W2esC9K5n5M9",
        "outputId": "6ff9ccba-0e08-4ad8-8911-c866cfe4a306"
      },
      "execution_count": 1,
      "outputs": [
        {
          "output_type": "stream",
          "name": "stdout",
          "text": [
            "Mounted at /content/drive\n"
          ]
        }
      ]
    },
    {
      "cell_type": "code",
      "execution_count": 2,
      "metadata": {
        "id": "1_08LQwSmQJU"
      },
      "outputs": [],
      "source": [
        "# importar librerias\n",
        "import pandas as pd\n",
        "import sqlite3"
      ]
    },
    {
      "cell_type": "code",
      "source": [
        "#almacenando la ruta y la base de datos en una variable\n",
        "path = '/content/drive/MyDrive/Colab Notebooks/Práctica Viviana/db/'\n",
        "database = '/content/drive/MyDrive/Colab Notebooks/Práctica Viviana/db/database.sqlite'"
      ],
      "metadata": {
        "id": "Hh3OBkfVoZDY"
      },
      "execution_count": 3,
      "outputs": []
    },
    {
      "cell_type": "code",
      "source": [
        "# Creamos la conexión con la BD y listaremos las tablas con las que contamos\n",
        "\n",
        "conn = sqlite3.connect(database)\n",
        "print (\"Conexión exitosa\")"
      ],
      "metadata": {
        "colab": {
          "base_uri": "https://localhost:8080/"
        },
        "id": "zKAMYqvbpxr_",
        "outputId": "5056d598-3c5d-457a-f564-4db8085fc9a6"
      },
      "execution_count": 4,
      "outputs": [
        {
          "output_type": "stream",
          "name": "stdout",
          "text": [
            "Conexión exitosa\n"
          ]
        }
      ]
    }
  ]
}